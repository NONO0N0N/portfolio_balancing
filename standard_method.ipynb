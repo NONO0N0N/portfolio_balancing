{
 "cells": [
  {
   "cell_type": "code",
   "execution_count": 1,
   "metadata": {},
   "outputs": [],
   "source": [
    "import numpy as np\n",
    "import matplotlib.pyplot as plt\n",
    "import pandas as pd"
   ]
  },
  {
   "cell_type": "code",
   "execution_count": 2,
   "metadata": {},
   "outputs": [],
   "source": [
    "from ta import add_all_ta_features\n",
    "import yfinance as yf"
   ]
  },
  {
   "cell_type": "code",
   "execution_count": 3,
   "metadata": {},
   "outputs": [
    {
     "name": "stderr",
     "output_type": "stream",
     "text": [
      "/home/nono/.local/lib/python3.10/site-packages/tqdm/auto.py:22: TqdmWarning: IProgress not found. Please update jupyter and ipywidgets. See https://ipywidgets.readthedocs.io/en/stable/user_install.html\n",
      "  from .autonotebook import tqdm as notebook_tqdm\n",
      "/home/nono/miniconda3/envs/rl_tutorial/lib/python3.10/site-packages/backtesting/_plotting.py:50: UserWarning: Jupyter Notebook detected. Setting Bokeh output to notebook. This may not work in Jupyter clients without JavaScript support (e.g. PyCharm, Spyder IDE). Reset with `backtesting.set_bokeh_output(notebook=False)`.\n",
      "  warnings.warn('Jupyter Notebook detected. '\n"
     ]
    },
    {
     "data": {
      "text/html": [
       "<style>\n",
       "        .bk-notebook-logo {\n",
       "            display: block;\n",
       "            width: 20px;\n",
       "            height: 20px;\n",
       "            background-image: url(data:image/png;base64,iVBORw0KGgoAAAANSUhEUgAAABQAAAAUCAYAAACNiR0NAAAABHNCSVQICAgIfAhkiAAAAAlwSFlzAAALEgAACxIB0t1+/AAAABx0RVh0U29mdHdhcmUAQWRvYmUgRmlyZXdvcmtzIENTNui8sowAAAOkSURBVDiNjZRtaJVlGMd/1/08zzln5zjP1LWcU9N0NkN8m2CYjpgQYQXqSs0I84OLIC0hkEKoPtiH3gmKoiJDU7QpLgoLjLIQCpEsNJ1vqUOdO7ppbuec5+V+rj4ctwzd8IIbbi6u+8f1539dt3A78eXC7QizUF7gyV1fD1Yqg4JWz84yffhm0qkFqBogB9rM8tZdtwVsPUhWhGcFJngGeWrPzHm5oaMmkfEg1usvLFyc8jLRqDOMru7AyC8saQr7GG7f5fvDeH7Ej8CM66nIF+8yngt6HWaKh7k49Soy9nXurCi1o3qUbS3zWfrYeQDTB/Qj6kX6Ybhw4B+bOYoLKCC9H3Nu/leUTZ1JdRWkkn2ldcCamzrcf47KKXdAJllSlxAOkRgyHsGC/zRday5Qld9DyoM4/q/rUoy/CXh3jzOu3bHUVZeU+DEn8FInkPBFlu3+nW3Nw0mk6vCDiWg8CeJaxEwuHS3+z5RgY+YBR6V1Z1nxSOfoaPa4LASWxxdNp+VWTk7+4vzaou8v8PN+xo+KY2xsw6une2frhw05CTYOmQvsEhjhWjn0bmXPjpE1+kplmmkP3suftwTubK9Vq22qKmrBhpY4jvd5afdRA3wGjFAgcnTK2s4hY0/GPNIb0nErGMCRxWOOX64Z8RAC4oCXdklmEvcL8o0BfkNK4lUg9HTl+oPlQxdNo3Mg4Nv175e/1LDGzZen30MEjRUtmXSfiTVu1kK8W4txyV6BMKlbgk3lMwYCiusNy9fVfvvwMxv8Ynl6vxoByANLTWplvuj/nF9m2+PDtt1eiHPBr1oIfhCChQMBw6Aw0UulqTKZdfVvfG7VcfIqLG9bcldL/+pdWTLxLUy8Qq38heUIjh4XlzZxzQm19lLFlr8vdQ97rjZVOLf8nclzckbcD4wxXMidpX30sFd37Fv/GtwwhzhxGVAprjbg0gCAEeIgwCZyTV2Z1REEW8O4py0wsjeloKoMr6iCY6dP92H6Vw/oTyICIthibxjm/DfN9lVz8IqtqKYLUXfoKVMVQVVJOElGjrnnUt9T9wbgp8AyYKaGlqingHZU/uG2NTZSVqwHQTWkx9hxjkpWDaCg6Ckj5qebgBVbT3V3NNXMSiWSDdGV3hrtzla7J+duwPOToIg42ChPQOQjspnSlp1V+Gjdged7+8UN5CRAV7a5EdFNwCjEaBR27b3W890TE7g24NAP/mMDXRWrGoFPQI9ls/MWO2dWFAar/xcOIImbbpA3zgAAAABJRU5ErkJggg==);\n",
       "        }\n",
       "    </style>\n",
       "    <div>\n",
       "        <a href=\"https://bokeh.org\" target=\"_blank\" class=\"bk-notebook-logo\"></a>\n",
       "        <span id=\"p1001\">Loading BokehJS ...</span>\n",
       "    </div>\n"
      ]
     },
     "metadata": {},
     "output_type": "display_data"
    },
    {
     "data": {
      "application/javascript": "(function(root) {\n  function now() {\n    return new Date();\n  }\n\n  const force = true;\n\n  if (typeof root._bokeh_onload_callbacks === \"undefined\" || force === true) {\n    root._bokeh_onload_callbacks = [];\n    root._bokeh_is_loading = undefined;\n  }\n\nconst JS_MIME_TYPE = 'application/javascript';\n  const HTML_MIME_TYPE = 'text/html';\n  const EXEC_MIME_TYPE = 'application/vnd.bokehjs_exec.v0+json';\n  const CLASS_NAME = 'output_bokeh rendered_html';\n\n  /**\n   * Render data to the DOM node\n   */\n  function render(props, node) {\n    const script = document.createElement(\"script\");\n    node.appendChild(script);\n  }\n\n  /**\n   * Handle when an output is cleared or removed\n   */\n  function handleClearOutput(event, handle) {\n    const cell = handle.cell;\n\n    const id = cell.output_area._bokeh_element_id;\n    const server_id = cell.output_area._bokeh_server_id;\n    // Clean up Bokeh references\n    if (id != null && id in Bokeh.index) {\n      Bokeh.index[id].model.document.clear();\n      delete Bokeh.index[id];\n    }\n\n    if (server_id !== undefined) {\n      // Clean up Bokeh references\n      const cmd_clean = \"from bokeh.io.state import curstate; print(curstate().uuid_to_server['\" + server_id + \"'].get_sessions()[0].document.roots[0]._id)\";\n      cell.notebook.kernel.execute(cmd_clean, {\n        iopub: {\n          output: function(msg) {\n            const id = msg.content.text.trim();\n            if (id in Bokeh.index) {\n              Bokeh.index[id].model.document.clear();\n              delete Bokeh.index[id];\n            }\n          }\n        }\n      });\n      // Destroy server and session\n      const cmd_destroy = \"import bokeh.io.notebook as ion; ion.destroy_server('\" + server_id + \"')\";\n      cell.notebook.kernel.execute(cmd_destroy);\n    }\n  }\n\n  /**\n   * Handle when a new output is added\n   */\n  function handleAddOutput(event, handle) {\n    const output_area = handle.output_area;\n    const output = handle.output;\n\n    // limit handleAddOutput to display_data with EXEC_MIME_TYPE content only\n    if ((output.output_type != \"display_data\") || (!Object.prototype.hasOwnProperty.call(output.data, EXEC_MIME_TYPE))) {\n      return\n    }\n\n    const toinsert = output_area.element.find(\".\" + CLASS_NAME.split(' ')[0]);\n\n    if (output.metadata[EXEC_MIME_TYPE][\"id\"] !== undefined) {\n      toinsert[toinsert.length - 1].firstChild.textContent = output.data[JS_MIME_TYPE];\n      // store reference to embed id on output_area\n      output_area._bokeh_element_id = output.metadata[EXEC_MIME_TYPE][\"id\"];\n    }\n    if (output.metadata[EXEC_MIME_TYPE][\"server_id\"] !== undefined) {\n      const bk_div = document.createElement(\"div\");\n      bk_div.innerHTML = output.data[HTML_MIME_TYPE];\n      const script_attrs = bk_div.children[0].attributes;\n      for (let i = 0; i < script_attrs.length; i++) {\n        toinsert[toinsert.length - 1].firstChild.setAttribute(script_attrs[i].name, script_attrs[i].value);\n        toinsert[toinsert.length - 1].firstChild.textContent = bk_div.children[0].textContent\n      }\n      // store reference to server id on output_area\n      output_area._bokeh_server_id = output.metadata[EXEC_MIME_TYPE][\"server_id\"];\n    }\n  }\n\n  function register_renderer(events, OutputArea) {\n\n    function append_mime(data, metadata, element) {\n      // create a DOM node to render to\n      const toinsert = this.create_output_subarea(\n        metadata,\n        CLASS_NAME,\n        EXEC_MIME_TYPE\n      );\n      this.keyboard_manager.register_events(toinsert);\n      // Render to node\n      const props = {data: data, metadata: metadata[EXEC_MIME_TYPE]};\n      render(props, toinsert[toinsert.length - 1]);\n      element.append(toinsert);\n      return toinsert\n    }\n\n    /* Handle when an output is cleared or removed */\n    events.on('clear_output.CodeCell', handleClearOutput);\n    events.on('delete.Cell', handleClearOutput);\n\n    /* Handle when a new output is added */\n    events.on('output_added.OutputArea', handleAddOutput);\n\n    /**\n     * Register the mime type and append_mime function with output_area\n     */\n    OutputArea.prototype.register_mime_type(EXEC_MIME_TYPE, append_mime, {\n      /* Is output safe? */\n      safe: true,\n      /* Index of renderer in `output_area.display_order` */\n      index: 0\n    });\n  }\n\n  // register the mime type if in Jupyter Notebook environment and previously unregistered\n  if (root.Jupyter !== undefined) {\n    const events = require('base/js/events');\n    const OutputArea = require('notebook/js/outputarea').OutputArea;\n\n    if (OutputArea.prototype.mime_types().indexOf(EXEC_MIME_TYPE) == -1) {\n      register_renderer(events, OutputArea);\n    }\n  }\n  if (typeof (root._bokeh_timeout) === \"undefined\" || force === true) {\n    root._bokeh_timeout = Date.now() + 5000;\n    root._bokeh_failed_load = false;\n  }\n\n  const NB_LOAD_WARNING = {'data': {'text/html':\n     \"<div style='background-color: #fdd'>\\n\"+\n     \"<p>\\n\"+\n     \"BokehJS does not appear to have successfully loaded. If loading BokehJS from CDN, this \\n\"+\n     \"may be due to a slow or bad network connection. Possible fixes:\\n\"+\n     \"</p>\\n\"+\n     \"<ul>\\n\"+\n     \"<li>re-rerun `output_notebook()` to attempt to load from CDN again, or</li>\\n\"+\n     \"<li>use INLINE resources instead, as so:</li>\\n\"+\n     \"</ul>\\n\"+\n     \"<code>\\n\"+\n     \"from bokeh.resources import INLINE\\n\"+\n     \"output_notebook(resources=INLINE)\\n\"+\n     \"</code>\\n\"+\n     \"</div>\"}};\n\n  function display_loaded() {\n    const el = document.getElementById(\"p1001\");\n    if (el != null) {\n      el.textContent = \"BokehJS is loading...\";\n    }\n    if (root.Bokeh !== undefined) {\n      if (el != null) {\n        el.textContent = \"BokehJS \" + root.Bokeh.version + \" successfully loaded.\";\n      }\n    } else if (Date.now() < root._bokeh_timeout) {\n      setTimeout(display_loaded, 100)\n    }\n  }\n\n  function run_callbacks() {\n    try {\n      root._bokeh_onload_callbacks.forEach(function(callback) {\n        if (callback != null)\n          callback();\n      });\n    } finally {\n      delete root._bokeh_onload_callbacks\n    }\n    console.debug(\"Bokeh: all callbacks have finished\");\n  }\n\n  function load_libs(css_urls, js_urls, callback) {\n    if (css_urls == null) css_urls = [];\n    if (js_urls == null) js_urls = [];\n\n    root._bokeh_onload_callbacks.push(callback);\n    if (root._bokeh_is_loading > 0) {\n      console.debug(\"Bokeh: BokehJS is being loaded, scheduling callback at\", now());\n      return null;\n    }\n    if (js_urls == null || js_urls.length === 0) {\n      run_callbacks();\n      return null;\n    }\n    console.debug(\"Bokeh: BokehJS not loaded, scheduling load and callback at\", now());\n    root._bokeh_is_loading = css_urls.length + js_urls.length;\n\n    function on_load() {\n      root._bokeh_is_loading--;\n      if (root._bokeh_is_loading === 0) {\n        console.debug(\"Bokeh: all BokehJS libraries/stylesheets loaded\");\n        run_callbacks()\n      }\n    }\n\n    function on_error(url) {\n      console.error(\"failed to load \" + url);\n    }\n\n    for (let i = 0; i < css_urls.length; i++) {\n      const url = css_urls[i];\n      const element = document.createElement(\"link\");\n      element.onload = on_load;\n      element.onerror = on_error.bind(null, url);\n      element.rel = \"stylesheet\";\n      element.type = \"text/css\";\n      element.href = url;\n      console.debug(\"Bokeh: injecting link tag for BokehJS stylesheet: \", url);\n      document.body.appendChild(element);\n    }\n\n    for (let i = 0; i < js_urls.length; i++) {\n      const url = js_urls[i];\n      const element = document.createElement('script');\n      element.onload = on_load;\n      element.onerror = on_error.bind(null, url);\n      element.async = false;\n      element.src = url;\n      console.debug(\"Bokeh: injecting script tag for BokehJS library: \", url);\n      document.head.appendChild(element);\n    }\n  };\n\n  function inject_raw_css(css) {\n    const element = document.createElement(\"style\");\n    element.appendChild(document.createTextNode(css));\n    document.body.appendChild(element);\n  }\n\n  const js_urls = [\"https://cdn.bokeh.org/bokeh/release/bokeh-3.0.3.min.js\", \"https://cdn.bokeh.org/bokeh/release/bokeh-gl-3.0.3.min.js\", \"https://cdn.bokeh.org/bokeh/release/bokeh-widgets-3.0.3.min.js\", \"https://cdn.bokeh.org/bokeh/release/bokeh-tables-3.0.3.min.js\", \"https://cdn.bokeh.org/bokeh/release/bokeh-mathjax-3.0.3.min.js\"];\n  const css_urls = [];\n\n  const inline_js = [    function(Bokeh) {\n      Bokeh.set_log_level(\"info\");\n    },\nfunction(Bokeh) {\n    }\n  ];\n\n  function run_inline_js() {\n    if (root.Bokeh !== undefined || force === true) {\n          for (let i = 0; i < inline_js.length; i++) {\n      inline_js[i].call(root, root.Bokeh);\n    }\nif (force === true) {\n        display_loaded();\n      }} else if (Date.now() < root._bokeh_timeout) {\n      setTimeout(run_inline_js, 100);\n    } else if (!root._bokeh_failed_load) {\n      console.log(\"Bokeh: BokehJS failed to load within specified timeout.\");\n      root._bokeh_failed_load = true;\n    } else if (force !== true) {\n      const cell = $(document.getElementById(\"p1001\")).parents('.cell').data().cell;\n      cell.output_area.append_execute_result(NB_LOAD_WARNING)\n    }\n  }\n\n  if (root._bokeh_is_loading === 0) {\n    console.debug(\"Bokeh: BokehJS loaded, going straight to plotting\");\n    run_inline_js();\n  } else {\n    load_libs(css_urls, js_urls, function() {\n      console.debug(\"Bokeh: BokehJS plotting callback run at\", now());\n      run_inline_js();\n    });\n  }\n}(window));",
      "application/vnd.bokehjs_load.v0+json": ""
     },
     "metadata": {},
     "output_type": "display_data"
    }
   ],
   "source": [
    "import gym \n",
    "from stable_baselines3.common.vec_env import DummyVecEnv\n",
    "from backtesting import Backtest, Strategy\n",
    "from stable_baselines3 import A2C, DDPG, DQN, PPO"
   ]
  },
  {
   "cell_type": "code",
   "execution_count": 4,
   "metadata": {},
   "outputs": [],
   "source": [
    "import backtesting\n",
    "from backtesting import Backtest, Strategy\n",
    "\n",
    "backtesting.set_bokeh_output(notebook=False)"
   ]
  },
  {
   "attachments": {},
   "cell_type": "markdown",
   "metadata": {},
   "source": [
    "## Loads Stocks data\n",
    "1. Apple Inc. (AAPL)\n",
    "2. Microsoft Corp. (MSFT)\n",
    "3. Amazon.com, Inc. ( AMZN)\n",
    "4. Tesla, Inc. (TSLA)\n",
    "5. Nvidia Corp. (NVDA)"
   ]
  },
  {
   "cell_type": "code",
   "execution_count": 5,
   "metadata": {},
   "outputs": [],
   "source": [
    "aapl_df = yf.Ticker(\"AAPL\").history(interval= \"1d\",start=\"2018-01-01\", end=\"2022-12-31\")\n",
    "msft_df = yf.Ticker(\"MSFT\").history(interval= \"1d\",start=\"2018-01-01\", end=\"2022-12-31\")\n",
    "amzn_df = yf.Ticker(\"AMZN\").history(interval= \"1d\",start=\"2018-01-01\", end=\"2022-12-31\")\n",
    "tsla_df = yf.Ticker(\"TSLA\").history(interval= \"1d\",start=\"2018-01-01\", end=\"2022-12-31\")\n",
    "nvda_df = yf.Ticker(\"NVDA\").history(interval= \"1d\",start=\"2018-01-01\", end=\"2022-12-31\")\n"
   ]
  },
  {
   "cell_type": "markdown",
   "metadata": {},
   "source": [
    "cleaning data"
   ]
  },
  {
   "cell_type": "code",
   "execution_count": 6,
   "metadata": {},
   "outputs": [],
   "source": [
    "def process_input(dataframe):\n",
    "    if (dataframe.index.name == 'Date'):\n",
    "        dataframe = dataframe.reset_index()\n",
    "\n",
    "    dataframe['Date'] = pd.to_datetime(dataframe['Date'].dt.date)\n",
    "    dataframe = dataframe.set_index('Date')\n",
    "    return dataframe\n"
   ]
  },
  {
   "cell_type": "code",
   "execution_count": 7,
   "metadata": {},
   "outputs": [],
   "source": [
    "aapl_df = process_input(aapl_df)\n",
    "msft_df = process_input(msft_df)\n",
    "amzn_df = process_input(amzn_df)\n",
    "tsla_df = process_input(tsla_df)\n",
    "nvda_df = process_input(nvda_df)\n"
   ]
  },
  {
   "cell_type": "code",
   "execution_count": 8,
   "metadata": {},
   "outputs": [
    {
     "name": "stdout",
     "output_type": "stream",
     "text": [
      "null of AAPL is 0\n",
      "null of MSFT is 0\n",
      "null of AMZN is 0\n",
      "null of TSLA is 0\n",
      "null of NDVA is 0\n"
     ]
    }
   ],
   "source": [
    "print(\"null of AAPL is\", aapl_df.isnull().sum().sum())\n",
    "print(\"null of MSFT is\", msft_df.isnull().sum().sum())\n",
    "print(\"null of AMZN is\", amzn_df.isnull().sum().sum())\n",
    "print(\"null of TSLA is\", tsla_df.isnull().sum().sum())\n",
    "print(\"null of NDVA is\", nvda_df.isnull().sum().sum())"
   ]
  },
  {
   "cell_type": "code",
   "execution_count": 9,
   "metadata": {},
   "outputs": [],
   "source": [
    "new_aapl_df = aapl_df.copy()\n",
    "new_aapl_df[\"tic\"] = \"AAPL\"\n",
    "\n",
    "msft_df_df = msft_df.copy()\n",
    "msft_df_df[\"tic\"] = \"MSFT\"\n",
    "\n",
    "mixed_df = pd.concat([new_aapl_df, msft_df_df])"
   ]
  },
  {
   "attachments": {},
   "cell_type": "markdown",
   "metadata": {},
   "source": [
    "## Portfolio performance\n",
    "The performance of the portfolio can be indicated by many aspects: sharpe, daily rate of return, cumulative return, and varience"
   ]
  },
  {
   "attachments": {},
   "cell_type": "markdown",
   "metadata": {},
   "source": [
    "### DRR\n",
    "The Daily rate of return can be computed by\n",
    "\n",
    "$$ DRR = { Price_{today} - Price_{prevday}} $$"
   ]
  },
  {
   "cell_type": "code",
   "execution_count": 10,
   "metadata": {},
   "outputs": [],
   "source": [
    "# use DRR column\n",
    "def portfolio_daily_rate_of_return(portfolio_df, initial_amount):\n",
    "    if not ('DRR' in portfolio_df):\n",
    "        portfolio_df['DRR'] = np.nan\n",
    "    portfolio_df['DRR'] = ( portfolio_df['Sum'] - np.roll(portfolio_df['Sum'], shift=1))/portfolio_df['Sum']\n",
    "    portfolio_df.loc[portfolio_df.index[0], 'DRR']= (portfolio_df.loc[portfolio_df.index[0], 'Sum'] -initial_amount) /initial_amount\n",
    "    return portfolio_df \n"
   ]
  },
  {
   "attachments": {},
   "cell_type": "markdown",
   "metadata": {},
   "source": [
    "### CRR\n",
    "The Cumulative rate or the sum of the DRR can be computed by\n",
    "\n",
    "$$ CRR = { Price_{today} - Price_{init}} $$"
   ]
  },
  {
   "cell_type": "code",
   "execution_count": 11,
   "metadata": {},
   "outputs": [],
   "source": [
    "# use CRR column\n",
    "def portfolio_cumulative_rate_of_return(portfolio_df, initial_amount):\n",
    "    if not ('DRR' in portfolio_df):\n",
    "        portfolio_df = portfolio_daily_rate_of_return(portfolio_df, initial_amount)\n",
    "    if not ('CRR' in portfolio_df):\n",
    "        portfolio_df['CRR'] = np.nan\n",
    "    \n",
    "    portfolio_df['CRR'] = ( portfolio_df['Sum'] - initial_amount)/initial_amount\n",
    "\n",
    "    return portfolio_df "
   ]
  },
  {
   "attachments": {},
   "cell_type": "markdown",
   "metadata": {},
   "source": [
    "### Varience\n",
    "The Varience can be computed by using the following equation\n",
    "\n",
    "$$ Var = { ( DRR - E_{DRR} )^2 \\over Time} $$"
   ]
  },
  {
   "cell_type": "code",
   "execution_count": 12,
   "metadata": {},
   "outputs": [],
   "source": [
    "def portfolio_varience(portfolio_df):\n",
    "    drr_sum = portfolio_df['DRR'].sum()/portfolio_df.__len__()\n",
    "\n",
    "    var = np.square(portfolio_df['DRR'] - drr_sum).sum()/portfolio_df.__len__()\n",
    "    return var"
   ]
  },
  {
   "attachments": {},
   "cell_type": "markdown",
   "metadata": {},
   "source": [
    "### Sharpe ratio\n",
    "The ratio can be computed by using the following equation\n",
    "\n",
    "$$ Sharpe = { R_{portfolio} - R_{riskfree} \\over \\sigma_{portfolio}} $$"
   ]
  },
  {
   "cell_type": "code",
   "execution_count": 13,
   "metadata": {},
   "outputs": [],
   "source": [
    "# compute the portfolio sharpe ratio\n",
    "def portfolio_sharpe_ratio(portfolio_df, port_sd, riskfree=0.0151, at_index=-1):\n",
    "    asset_return = portfolio_df.loc[portfolio_df.index[at_index], 'CRR']\n",
    "    return (asset_return - riskfree)/port_sd"
   ]
  },
  {
   "attachments": {},
   "cell_type": "markdown",
   "metadata": {},
   "source": [
    "## The following code are the implementation of two famous portfolio balancing methods\n",
    "- Constance rebalance\n",
    "- Buy and Hold"
   ]
  },
  {
   "cell_type": "code",
   "execution_count": 14,
   "metadata": {},
   "outputs": [],
   "source": [
    "class ConstanceBalancingOnTime:\n",
    "    def __init__(self, \n",
    "                df,\n",
    "                holding_ratio,\n",
    "                rebalance_time,\n",
    "                initial_amount,\n",
    "                transaction_cost_pct,\n",
    "                lookback=252,\n",
    "                day = 0):\n",
    "        self.df = df\n",
    "        self.rebalance_time = rebalance_time\n",
    "        self.holding_ratio = np.array(holding_ratio)\n",
    "        self.initial_amount = initial_amount\n",
    "        self.transaction_cost_pct = transaction_cost_pct\n",
    "        self.lookback = lookback\n",
    "        self.day = day\n",
    "\n",
    "        self.ticker_list = df[\"tic\"].unique()\n",
    "        self.stock_count = len(self.ticker_list)\n",
    "        # the first one is cash on hand followed by the stock in the tickers\n",
    "        self.asset_amount = self.holding_ratio * initial_amount\n",
    "\n",
    "        self.portfolio_memory = self._create_initial_memory()\n",
    "        self._write_memory_at_index(0)\n",
    "\n",
    "        #for keeping matric\n",
    "        self.metric = {}\n",
    "\n",
    "        \n",
    "\n",
    "    def step(self):\n",
    "        # incase \n",
    "        self.day += 1\n",
    "        # if (self.day == 1):\n",
    "        #     current_value = self.initial_amount / (self.transaction_cost_pct * self.holding_ratio[1:].sum() + self.initial_amount)\n",
    "        #     self.asset_amount = current_value * self.holding_ratio\n",
    "        #     return\n",
    "        \n",
    "        for index in range(self.stock_count):\n",
    "            try:\n",
    "                self.asset_amount[index+1] *= self._update_assetprice_by_ratio(int(self.day), self.ticker_list[index])\n",
    "            except:\n",
    "                print(\"error at day\",self.day, index)\n",
    "        \n",
    "        # rebalancing\n",
    "        if (self.day % self.rebalance_time == 0):\n",
    "\n",
    "            after_asset_amount = np.array([])\n",
    "            \n",
    "            current_asset_value = self.asset_amount.sum()\n",
    "            current_asset_ratio = self.asset_amount/current_asset_value\n",
    "\n",
    "            #check the sign of asset allowcation\n",
    "            asset_adapt_sign = self.holding_ratio >= current_asset_ratio\n",
    "                \n",
    "            asset_matrix = np.array([np.append(self.holding_ratio.copy(), 0)])\n",
    "            \n",
    "            for i in range(self.stock_count+1): \n",
    "                # the amount of add in that we will add into the asset line\n",
    "                add_in_asset_line = 1\n",
    "                if ((self.holding_ratio == current_asset_ratio)[i] ):\n",
    "                    pass\n",
    "                elif (asset_adapt_sign[i] ):\n",
    "                    add_in_asset_line += self.transaction_cost_pct\n",
    "                else:\n",
    "                    add_in_asset_line -= self.transaction_cost_pct\n",
    "                # print(add_in_asset_line)\n",
    "                current_asset_line = np.zeros(self.stock_count+2)\n",
    "                current_asset_line[i] = add_in_asset_line\n",
    "                current_asset_line[-1] = 1\n",
    "                # print(asset_matrix.shape, current_asset_line.shape)\n",
    "                asset_matrix = np.append(asset_matrix.copy(), np.array([current_asset_line.copy()]), axis=0)\n",
    "            asset_matrix = asset_matrix.T\n",
    "            \n",
    "            modify_amount = np.linalg.solve(asset_matrix, np.append(self.asset_amount, 0))[1:]\n",
    "            self.asset_amount = self.asset_amount - modify_amount\n",
    "        \n",
    "        # write the allocation to the memory df\n",
    "        self._write_memory_at_index(self.day)\n",
    "\n",
    "    def run(self):\n",
    "        time_range = self.df.__len__() / self.stock_count\n",
    "        for i in range(int(time_range)-1):\n",
    "            self.step()\n",
    "\n",
    "    def reset(self):\n",
    "        self.day = 0\n",
    "        self.asset_amount = self.holding_ratio * self.initial_amount\n",
    "\n",
    "        self.portfolio_memory = self._create_initial_memory()\n",
    "        self._write_memory_at_index(0)\n",
    "\n",
    "    def get_asset_amount(self):\n",
    "        return self.asset_amount.sum()\n",
    "    \n",
    "    def add_return(self, method):\n",
    "        self.portfolio_memory = method(self.portfolio_memory, self.initial_amount)\n",
    "\n",
    "    def add_metric(self, new_matric, new_matric_name, **kwargs):\n",
    "        matric_res = new_matric(self.portfolio_memory, **kwargs)\n",
    "        self.metric.update({new_matric_name: matric_res}) \n",
    "\n",
    "    def _create_initial_memory(self):\n",
    "        col = np.append(np.array(['Cash']), self.ticker_list)\n",
    "        col = np.append(col, np.array(['Sum']))\n",
    "        initial_memory = pd.DataFrame(index=self.df.index.unique(), columns=col)\n",
    "        \n",
    "        return initial_memory\n",
    "    \n",
    "    def _update_assetprice_by_ratio(self, time_index: int, ticker: str):\n",
    "        return self.df[self.df['tic'] == ticker].iloc[time_index]['Close']/self.df[self.df['tic'] == ticker].iloc[time_index-1]['Close']\n",
    "    \n",
    "    def _write_memory_at_index(self, index: int):\n",
    "        self.portfolio_memory.iloc[index]['Cash'] = self.asset_amount[0]\n",
    "        \n",
    "        for stock_index in range(self.stock_count):\n",
    "            current_ticker = self.ticker_list[stock_index]\n",
    "            self.portfolio_memory.iloc[index][current_ticker] = self.asset_amount[stock_index+1]\n",
    "        self.portfolio_memory.iloc[index]['Sum'] = self.asset_amount.sum()\n",
    "    \n"
   ]
  },
  {
   "cell_type": "code",
   "execution_count": 15,
   "metadata": {},
   "outputs": [],
   "source": [
    "test_df = mixed_df.loc[\"2022\"]\n",
    "risk_free_2022 = 0.024"
   ]
  },
  {
   "attachments": {},
   "cell_type": "markdown",
   "metadata": {},
   "source": [
    "### Constance rebalance"
   ]
  },
  {
   "cell_type": "code",
   "execution_count": 16,
   "metadata": {},
   "outputs": [],
   "source": [
    "env_kwargs = {\n",
    "  \"holding_ratio\": [0,0.5,0.5], \n",
    "  \"rebalance_time\": 60,\n",
    "  \"initial_amount\": 1000000, \n",
    "  \"transaction_cost_pct\": 0.001\n",
    "}\n",
    "\n",
    "cr = ConstanceBalancingOnTime(df = test_df, **env_kwargs)\n"
   ]
  },
  {
   "cell_type": "code",
   "execution_count": 17,
   "metadata": {},
   "outputs": [],
   "source": [
    "cr.reset()\n",
    "cr.run()\n"
   ]
  },
  {
   "cell_type": "code",
   "execution_count": 18,
   "metadata": {},
   "outputs": [
    {
     "name": "stdout",
     "output_type": "stream",
     "text": [
      "rebalance time 60\n",
      "initial amount 1000000\n",
      "tickers ['AAPL' 'MSFT']\n",
      "stock count 2\n"
     ]
    }
   ],
   "source": [
    "print(\"rebalance time\", cr.rebalance_time)\n",
    "print(\"initial amount\", cr.initial_amount)\n",
    "print(\"tickers\", cr.ticker_list)\n",
    "print(\"stock count\", cr.stock_count)\n"
   ]
  },
  {
   "cell_type": "code",
   "execution_count": 19,
   "metadata": {},
   "outputs": [],
   "source": [
    "cr.add_return(portfolio_daily_rate_of_return)\n",
    "cr.add_return(portfolio_cumulative_rate_of_return)\n",
    "\n",
    "cr.add_metric(portfolio_varience, \"varience\")\n",
    "env_kwargs = {\n",
    "  \"port_sd\": np.sqrt(cr.metric['varience']), \n",
    "  \"riskfree\": risk_free_2022,\n",
    "}\n",
    "\n",
    "cr.add_metric(portfolio_sharpe_ratio, \"sharpe\", **env_kwargs)"
   ]
  },
  {
   "cell_type": "code",
   "execution_count": 20,
   "metadata": {},
   "outputs": [
    {
     "data": {
      "text/plain": [
       "{'varience': 0.00045234090057688165, 'sharpe': -13.991096897194486}"
      ]
     },
     "execution_count": 20,
     "metadata": {},
     "output_type": "execute_result"
    }
   ],
   "source": [
    "cr.metric"
   ]
  },
  {
   "attachments": {},
   "cell_type": "markdown",
   "metadata": {},
   "source": [
    "### Buy and Hold"
   ]
  },
  {
   "cell_type": "code",
   "execution_count": 21,
   "metadata": {},
   "outputs": [],
   "source": [
    "## let the time to be very high so the portfolio will not rebalance\n",
    "env_kwargs = {\n",
    "  \"holding_ratio\": [0,0.5,0.5], \n",
    "  \"rebalance_time\": 9999999999,\n",
    "  \"initial_amount\": 1000000, \n",
    "  \"transaction_cost_pct\": 0.001\n",
    "}\n",
    "\n",
    "buyhold = ConstanceBalancingOnTime(df = test_df, **env_kwargs)\n"
   ]
  },
  {
   "cell_type": "code",
   "execution_count": 22,
   "metadata": {},
   "outputs": [],
   "source": [
    "buyhold.reset()\n",
    "buyhold.run()"
   ]
  },
  {
   "cell_type": "code",
   "execution_count": 23,
   "metadata": {},
   "outputs": [
    {
     "name": "stdout",
     "output_type": "stream",
     "text": [
      "rebalance time 9999999999\n",
      "initial amount 1000000\n",
      "tickers ['AAPL' 'MSFT']\n",
      "stock count 2\n"
     ]
    }
   ],
   "source": [
    "print(\"rebalance time\", buyhold.rebalance_time)\n",
    "print(\"initial amount\", buyhold.initial_amount)\n",
    "print(\"tickers\", buyhold.ticker_list)\n",
    "print(\"stock count\", buyhold.stock_count)\n"
   ]
  },
  {
   "cell_type": "code",
   "execution_count": 24,
   "metadata": {},
   "outputs": [],
   "source": [
    "buyhold.add_return(portfolio_daily_rate_of_return)\n",
    "buyhold.add_return(portfolio_cumulative_rate_of_return)\n",
    "buyhold.add_metric(portfolio_varience, \"varience\")\n",
    "env_kwargs = {\n",
    "  \"port_sd\": np.sqrt(cr.metric['varience']), \n",
    "  \"riskfree\": risk_free_2022,\n",
    "}\n",
    "\n",
    "buyhold.add_metric(portfolio_sharpe_ratio, \"sharpe\", **env_kwargs)"
   ]
  },
  {
   "cell_type": "code",
   "execution_count": 25,
   "metadata": {},
   "outputs": [
    {
     "data": {
      "text/plain": [
       "{'varience': 0.0004524930418013256, 'sharpe': -14.266927372596664}"
      ]
     },
     "execution_count": 25,
     "metadata": {},
     "output_type": "execute_result"
    }
   ],
   "source": [
    "buyhold.metric"
   ]
  }
 ],
 "metadata": {
  "kernelspec": {
   "display_name": "rl_tutorial",
   "language": "python",
   "name": "python3"
  },
  "language_info": {
   "codemirror_mode": {
    "name": "ipython",
    "version": 3
   },
   "file_extension": ".py",
   "mimetype": "text/x-python",
   "name": "python",
   "nbconvert_exporter": "python",
   "pygments_lexer": "ipython3",
   "version": "3.10.9"
  },
  "orig_nbformat": 4,
  "vscode": {
   "interpreter": {
    "hash": "6dd4a4f51c407dddfa0e8ea001a33fc5348a46f8c87dd7c6e01c498ffa111976"
   }
  }
 },
 "nbformat": 4,
 "nbformat_minor": 2
}
