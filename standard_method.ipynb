{
 "cells": [
  {
   "cell_type": "code",
   "execution_count": 20,
   "metadata": {},
   "outputs": [],
   "source": [
    "import numpy as np\n",
    "import matplotlib.pyplot as plt\n",
    "import pandas as pd"
   ]
  },
  {
   "cell_type": "code",
   "execution_count": 21,
   "metadata": {},
   "outputs": [],
   "source": [
    "from ta import add_all_ta_features\n",
    "import yfinance as yf"
   ]
  },
  {
   "cell_type": "code",
   "execution_count": 22,
   "metadata": {},
   "outputs": [],
   "source": [
    "import gym \n",
    "from stable_baselines3.common.vec_env import DummyVecEnv\n",
    "from backtesting import Backtest, Strategy\n",
    "from stable_baselines3 import A2C, DDPG, DQN, PPO"
   ]
  },
  {
   "cell_type": "code",
   "execution_count": 23,
   "metadata": {},
   "outputs": [],
   "source": [
    "import backtesting\n",
    "from backtesting import Backtest, Strategy\n",
    "\n",
    "backtesting.set_bokeh_output(notebook=False)"
   ]
  },
  {
   "attachments": {},
   "cell_type": "markdown",
   "metadata": {},
   "source": [
    "## Loads Stocks data\n",
    "1. Apple Inc. (AAPL)\n",
    "2. Microsoft Corp. (MSFT)\n",
    "3. Amazon.com, Inc. ( AMZN)\n",
    "4. Tesla, Inc. (TSLA)\n",
    "5. Nvidia Corp. (NVDA)"
   ]
  },
  {
   "cell_type": "code",
   "execution_count": 24,
   "metadata": {},
   "outputs": [],
   "source": [
    "aapl_df = yf.Ticker(\"AAPL\").history(interval= \"1d\",start=\"2018-01-01\", end=\"2022-12-31\")\n",
    "msft_df = yf.Ticker(\"MSFT\").history(interval= \"1d\",start=\"2018-01-01\", end=\"2022-12-31\")\n",
    "amzn_df = yf.Ticker(\"AMZN\").history(interval= \"1d\",start=\"2018-01-01\", end=\"2022-12-31\")\n",
    "tsla_df = yf.Ticker(\"TSLA\").history(interval= \"1d\",start=\"2018-01-01\", end=\"2022-12-31\")\n",
    "nvda_df = yf.Ticker(\"NVDA\").history(interval= \"1d\",start=\"2018-01-01\", end=\"2022-12-31\")\n"
   ]
  },
  {
   "cell_type": "markdown",
   "metadata": {},
   "source": [
    "cleaning data"
   ]
  },
  {
   "cell_type": "code",
   "execution_count": 25,
   "metadata": {},
   "outputs": [],
   "source": [
    "def process_input(dataframe):\n",
    "    if (dataframe.index.name == 'Date'):\n",
    "        dataframe = dataframe.reset_index()\n",
    "\n",
    "    dataframe['Date'] = pd.to_datetime(dataframe['Date'].dt.date)\n",
    "    dataframe = dataframe.set_index('Date')\n",
    "    return dataframe\n"
   ]
  },
  {
   "cell_type": "code",
   "execution_count": 26,
   "metadata": {},
   "outputs": [],
   "source": [
    "aapl_df = process_input(aapl_df)\n",
    "msft_df = process_input(msft_df)\n",
    "amzn_df = process_input(amzn_df)\n",
    "tsla_df = process_input(tsla_df)\n",
    "nvda_df = process_input(nvda_df)\n"
   ]
  },
  {
   "cell_type": "code",
   "execution_count": 27,
   "metadata": {},
   "outputs": [
    {
     "name": "stdout",
     "output_type": "stream",
     "text": [
      "null of AAPL is 0\n",
      "null of MSFT is 0\n",
      "null of AMZN is 0\n",
      "null of TSLA is 0\n",
      "null of NDVA is 0\n"
     ]
    }
   ],
   "source": [
    "print(\"null of AAPL is\", aapl_df.isnull().sum().sum())\n",
    "print(\"null of MSFT is\", msft_df.isnull().sum().sum())\n",
    "print(\"null of AMZN is\", amzn_df.isnull().sum().sum())\n",
    "print(\"null of TSLA is\", tsla_df.isnull().sum().sum())\n",
    "print(\"null of NDVA is\", nvda_df.isnull().sum().sum())"
   ]
  },
  {
   "cell_type": "code",
   "execution_count": 28,
   "metadata": {},
   "outputs": [],
   "source": [
    "new_aapl_df = aapl_df.copy()\n",
    "new_aapl_df[\"tic\"] = \"AAPL\"\n",
    "\n",
    "msft_df_df = msft_df.copy()\n",
    "msft_df_df[\"tic\"] = \"MSFT\"\n",
    "\n",
    "mixed_df = pd.concat([new_aapl_df, msft_df_df])"
   ]
  },
  {
   "cell_type": "code",
   "execution_count": 29,
   "metadata": {},
   "outputs": [
    {
     "data": {
      "text/plain": [
       "Date\n",
       "2018-01-02   NaN\n",
       "2018-01-02   NaN\n",
       "2018-01-03   NaN\n",
       "2018-01-03   NaN\n",
       "Name: Open, dtype: float64"
      ]
     },
     "execution_count": 29,
     "metadata": {},
     "output_type": "execute_result"
    }
   ],
   "source": [
    "mixed_df.loc['2018-01-02']['Open']/mixed_df.loc['2018-01-03']['Open']"
   ]
  },
  {
   "attachments": {},
   "cell_type": "markdown",
   "metadata": {},
   "source": [
    "## Portfolio performance\n",
    "The performance of the portfolio can be indicated by many aspects: sharpe, daily rate of return, cumulative return, and varience"
   ]
  },
  {
   "attachments": {},
   "cell_type": "markdown",
   "metadata": {},
   "source": [
    "### DRR\n",
    "The Daily rate of return can be computed by\n",
    "\n",
    "$$ DRR = { Price_{today} - Price_{prevday}} $$"
   ]
  },
  {
   "cell_type": "code",
   "execution_count": 30,
   "metadata": {},
   "outputs": [],
   "source": [
    "# use DRR column\n",
    "def portfolio_daily_rate_of_return(portfolio_df, initial_amount):\n",
    "    if not ('DRR' in portfolio_df):\n",
    "        portfolio_df['DRR'] = np.nan\n",
    "    portfolio_df['DRR'] = ( portfolio_df['Sum'] - np.roll(portfolio_df['Sum'], shift=1))/portfolio_df['Sum']\n",
    "    portfolio_df.loc[portfolio_df.index[0], 'DRR']= (portfolio_df.loc[portfolio_df.index[0], 'Sum'] -initial_amount) /initial_amount\n",
    "    return portfolio_df \n"
   ]
  },
  {
   "attachments": {},
   "cell_type": "markdown",
   "metadata": {},
   "source": [
    "### CRR\n",
    "The Cumulative rate or the sum of the DRR can be computed by\n",
    "\n",
    "$$ CRR = { Price_{today} - Price_{init}} $$"
   ]
  },
  {
   "cell_type": "code",
   "execution_count": 31,
   "metadata": {},
   "outputs": [],
   "source": [
    "# use CRR column\n",
    "def portfolio_cumulative_rate_of_return(portfolio_df, initial_amount):\n",
    "    if not ('DRR' in portfolio_df):\n",
    "        portfolio_df = portfolio_daily_rate_of_return(portfolio_df, initial_amount)\n",
    "    if not ('CRR' in portfolio_df):\n",
    "        portfolio_df['CRR'] = np.nan\n",
    "    \n",
    "    portfolio_df['CRR'] = ( portfolio_df['Sum'] - initial_amount)/initial_amount\n",
    "\n",
    "    return portfolio_df "
   ]
  },
  {
   "attachments": {},
   "cell_type": "markdown",
   "metadata": {},
   "source": [
    "### Varience\n",
    "The Varience can be computed by using the following equation\n",
    "\n",
    "$$ Var = { ( DRR - E_{DRR} )^2 \\over Time} $$"
   ]
  },
  {
   "cell_type": "code",
   "execution_count": 32,
   "metadata": {},
   "outputs": [],
   "source": [
    "def portfolio_varience(portfolio_df):\n",
    "    drr_sum = portfolio_df['DRR'].sum()/portfolio_df.__len__()\n",
    "\n",
    "    var = np.square(portfolio_df['DRR'] - drr_sum).sum()/portfolio_df.__len__()\n",
    "    return var"
   ]
  },
  {
   "attachments": {},
   "cell_type": "markdown",
   "metadata": {},
   "source": [
    "### Sharpe ratio\n",
    "The ratio can be computed by using the following equation\n",
    "\n",
    "$$ Sharpe = { R_{portfolio} - R_{riskfree} \\over \\sigma_{portfolio}} $$"
   ]
  },
  {
   "cell_type": "code",
   "execution_count": 33,
   "metadata": {},
   "outputs": [],
   "source": [
    "# compute the portfolio sharpe ratio\n",
    "def portfolio_sharpe_ratio(portfolio_df, port_sd, riskfree=0.0151, at_index=-1):\n",
    "    asset_return = portfolio_df.loc[portfolio_df.index[at_index], 'CRR']\n",
    "    return (asset_return - riskfree)/port_sd"
   ]
  },
  {
   "attachments": {},
   "cell_type": "markdown",
   "metadata": {},
   "source": [
    "## The following code are the implementation of two famous portfolio balancing methods\n",
    "- Constance rebalance\n",
    "- Buy and Hold"
   ]
  },
  {
   "cell_type": "code",
   "execution_count": 34,
   "metadata": {},
   "outputs": [],
   "source": [
    "class ConstanceBalancingOnTime:\n",
    "    def __init__(self, \n",
    "                df,\n",
    "                holding_ratio,\n",
    "                rebalance_time,\n",
    "                initial_amount,\n",
    "                transaction_cost_pct,\n",
    "                lookback=252,\n",
    "                day = 0):\n",
    "        self.df = df\n",
    "        self.rebalance_time = rebalance_time\n",
    "        self.holding_ratio = np.array(holding_ratio)\n",
    "        self.initial_amount = initial_amount\n",
    "        self.transaction_cost_pct = transaction_cost_pct\n",
    "        self.lookback = lookback\n",
    "        self.day = day\n",
    "\n",
    "        self.ticker_list = df[\"tic\"].unique()\n",
    "        self.stock_count = len(self.ticker_list)\n",
    "        # the first one is cash on hand followed by the stock in the tickers\n",
    "        self.asset_amount = self.holding_ratio * initial_amount\n",
    "\n",
    "        self.portfolio_memory = self._create_initial_memory()\n",
    "        self._write_memory_at_index(0)\n",
    "\n",
    "        #for keeping matric\n",
    "        self.metric = {}\n",
    "\n",
    "        \n",
    "\n",
    "    def step(self):\n",
    "        # incase \n",
    "        self.day += 1\n",
    "        # if (self.day == 1):\n",
    "        #     current_value = self.initial_amount / (self.transaction_cost_pct * self.holding_ratio[1:].sum() + self.initial_amount)\n",
    "        #     self.asset_amount = current_value * self.holding_ratio\n",
    "        #     return\n",
    "        \n",
    "        for index in range(self.stock_count):\n",
    "            try:\n",
    "                self.asset_amount[index+1] *= self._update_assetprice_by_ratio(int(self.day), self.ticker_list[index])\n",
    "            except:\n",
    "                print(\"error at day\",self.day, index)\n",
    "        \n",
    "        # rebalancing\n",
    "        if (self.day % self.rebalance_time == 0):\n",
    "\n",
    "            after_asset_amount = np.array([])\n",
    "            \n",
    "            current_asset_value = self.asset_amount.sum()\n",
    "            current_asset_ratio = self.asset_amount/current_asset_value\n",
    "\n",
    "            #check the sign of asset allowcation\n",
    "            asset_adapt_sign = self.holding_ratio >= current_asset_ratio\n",
    "                \n",
    "            asset_matrix = np.array([np.append(self.holding_ratio.copy(), 0)])\n",
    "            \n",
    "            for i in range(self.stock_count+1): \n",
    "                # the amount of add in that we will add into the asset line\n",
    "                add_in_asset_line = 1\n",
    "                if ((self.holding_ratio == current_asset_ratio)[i] ):\n",
    "                    pass\n",
    "                elif (asset_adapt_sign[i] ):\n",
    "                    add_in_asset_line += self.transaction_cost_pct\n",
    "                else:\n",
    "                    add_in_asset_line -= self.transaction_cost_pct\n",
    "                # print(add_in_asset_line)\n",
    "                current_asset_line = np.zeros(self.stock_count+2)\n",
    "                current_asset_line[i] = add_in_asset_line\n",
    "                current_asset_line[-1] = 1\n",
    "                # print(asset_matrix.shape, current_asset_line.shape)\n",
    "                asset_matrix = np.append(asset_matrix.copy(), np.array([current_asset_line.copy()]), axis=0)\n",
    "            asset_matrix = asset_matrix.T\n",
    "            \n",
    "            modify_amount = np.linalg.solve(asset_matrix, np.append(self.asset_amount, 0))[1:]\n",
    "            self.asset_amount = self.asset_amount - modify_amount\n",
    "        \n",
    "        # write the allocation to the memory df\n",
    "        self._write_memory_at_index(self.day)\n",
    "\n",
    "    def run(self):\n",
    "        time_range = self.df.__len__() / self.stock_count\n",
    "        for i in range(int(time_range)-1):\n",
    "            self.step()\n",
    "\n",
    "    def reset(self):\n",
    "        self.day = 0\n",
    "        self.asset_amount = self.holding_ratio * self.initial_amount\n",
    "\n",
    "        self.portfolio_memory = self._create_initial_memory()\n",
    "        self._write_memory_at_index(0)\n",
    "\n",
    "    def get_asset_amount(self):\n",
    "        return self.asset_amount.sum()\n",
    "    \n",
    "    def add_return(self, method):\n",
    "        self.portfolio_memory = method(self.portfolio_memory, self.initial_amount)\n",
    "\n",
    "    def add_metric(self, new_matric, new_matric_name, **kwargs):\n",
    "        matric_res = new_matric(self.portfolio_memory, **kwargs)\n",
    "        self.metric.update({new_matric_name: matric_res}) \n",
    "\n",
    "    def _create_initial_memory(self):\n",
    "        col = np.append(np.array(['Cash']), self.ticker_list)\n",
    "        col = np.append(col, np.array(['Sum']))\n",
    "        initial_memory = pd.DataFrame(index=self.df.index.unique(), columns=col)\n",
    "        \n",
    "        return initial_memory\n",
    "    \n",
    "    def _update_assetprice_by_ratio(self, time_index: int, ticker: str):\n",
    "        return self.df[self.df['tic'] == ticker].iloc[time_index]['Close']/self.df[self.df['tic'] == ticker].iloc[time_index-1]['Close']\n",
    "    \n",
    "    def _write_memory_at_index(self, index: int):\n",
    "        self.portfolio_memory.iloc[index]['Cash'] = self.asset_amount[0]\n",
    "        \n",
    "        for stock_index in range(self.stock_count):\n",
    "            current_ticker = self.ticker_list[stock_index]\n",
    "            self.portfolio_memory.iloc[index][current_ticker] = self.asset_amount[stock_index+1]\n",
    "        self.portfolio_memory.iloc[index]['Sum'] = self.asset_amount.sum()\n",
    "    \n"
   ]
  },
  {
   "attachments": {},
   "cell_type": "markdown",
   "metadata": {},
   "source": [
    "### Constance rebalance"
   ]
  },
  {
   "cell_type": "code",
   "execution_count": 35,
   "metadata": {},
   "outputs": [],
   "source": [
    "env_kwargs = {\n",
    "  \"holding_ratio\": [0,0.5,0.5], \n",
    "  \"rebalance_time\": 60,\n",
    "  \"initial_amount\": 1000000, \n",
    "  \"transaction_cost_pct\": 0.001\n",
    "}\n",
    "\n",
    "cr = ConstanceBalancingOnTime(df = mixed_df, **env_kwargs)\n"
   ]
  },
  {
   "cell_type": "code",
   "execution_count": 36,
   "metadata": {},
   "outputs": [],
   "source": [
    "cr.reset()\n",
    "cr.run()\n"
   ]
  },
  {
   "cell_type": "code",
   "execution_count": 37,
   "metadata": {},
   "outputs": [
    {
     "name": "stdout",
     "output_type": "stream",
     "text": [
      "rebalance time 60\n",
      "initial amount 1000000\n",
      "tickers ['AAPL' 'MSFT']\n",
      "stock count 2\n",
      "asset amount [      0.         1492155.28292451 1649067.39751928]\n",
      "asset \n",
      "            Cash           AAPL           MSFT             Sum\n",
      "Date                                                         \n",
      "2018-01-02  0.0       500000.0       500000.0       1000000.0\n",
      "2018-01-03  0.0  499913.141309  502326.999487  1002240.140797\n",
      "2018-01-04  0.0  502235.141869  506748.114247  1008983.256117\n",
      "2018-01-05  0.0  507953.261255  513030.838047  1020984.099301\n",
      "2018-01-08  0.0  506066.533757  513554.437737  1019620.971494\n"
     ]
    }
   ],
   "source": [
    "print(\"rebalance time\", cr.rebalance_time)\n",
    "print(\"initial amount\", cr.initial_amount)\n",
    "print(\"tickers\", cr.ticker_list)\n",
    "print(\"stock count\", cr.stock_count)\n"
   ]
  },
  {
   "cell_type": "code",
   "execution_count": 38,
   "metadata": {},
   "outputs": [],
   "source": [
    "cr.add_return(portfolio_daily_rate_of_return)\n",
    "cr.add_return(portfolio_cumulative_rate_of_return)"
   ]
  },
  {
   "cell_type": "code",
   "execution_count": 42,
   "metadata": {},
   "outputs": [],
   "source": [
    "cr.add_metric(portfolio_varience, \"varience\")"
   ]
  },
  {
   "cell_type": "code",
   "execution_count": 43,
   "metadata": {},
   "outputs": [],
   "source": [
    "env_kwargs = {\n",
    "  \"port_sd\": np.sqrt(cr.metric['varience']), \n",
    "  \"riskfree\": 0.089,\n",
    "}\n",
    "\n",
    "cr.add_metric(portfolio_sharpe_ratio, \"sharpe\", **env_kwargs)"
   ]
  },
  {
   "cell_type": "code",
   "execution_count": 44,
   "metadata": {},
   "outputs": [
    {
     "data": {
      "text/plain": [
       "{'varience': 0.0003689325133336441, 'sharpe': 106.84421626591556}"
      ]
     },
     "execution_count": 44,
     "metadata": {},
     "output_type": "execute_result"
    }
   ],
   "source": [
    "cr.metric"
   ]
  },
  {
   "attachments": {},
   "cell_type": "markdown",
   "metadata": {},
   "source": [
    "### Buy and Hold"
   ]
  },
  {
   "cell_type": "code",
   "execution_count": 45,
   "metadata": {},
   "outputs": [],
   "source": [
    "## let the time to be very high so the portfolio will not rebalance\n",
    "env_kwargs = {\n",
    "  \"holding_ratio\": [0,0.5,0.5], \n",
    "  \"rebalance_time\": 9999999999,\n",
    "  \"initial_amount\": 1000000, \n",
    "  \"transaction_cost_pct\": 0.001\n",
    "}\n",
    "\n",
    "buyhold = ConstanceBalancingOnTime(df = mixed_df, **env_kwargs)\n"
   ]
  },
  {
   "cell_type": "code",
   "execution_count": 46,
   "metadata": {},
   "outputs": [],
   "source": [
    "buyhold.reset()\n",
    "buyhold.run()"
   ]
  },
  {
   "cell_type": "code",
   "execution_count": 47,
   "metadata": {},
   "outputs": [
    {
     "name": "stdout",
     "output_type": "stream",
     "text": [
      "rebalance time 9999999999\n",
      "initial amount 1000000\n",
      "tickers ['AAPL' 'MSFT']\n",
      "stock count 2\n"
     ]
    }
   ],
   "source": [
    "print(\"rebalance time\", buyhold.rebalance_time)\n",
    "print(\"initial amount\", buyhold.initial_amount)\n",
    "print(\"tickers\", buyhold.ticker_list)\n",
    "print(\"stock count\", buyhold.stock_count)\n"
   ]
  },
  {
   "cell_type": "code",
   "execution_count": 52,
   "metadata": {},
   "outputs": [],
   "source": [
    "buyhold.add_return(portfolio_daily_rate_of_return)\n",
    "buyhold.add_return(portfolio_cumulative_rate_of_return)\n",
    "buyhold.add_metric(portfolio_varience, \"varience\")\n",
    "env_kwargs = {\n",
    "  \"port_sd\": np.sqrt(cr.metric['varience']), \n",
    "  \"riskfree\": 0.089,\n",
    "}\n",
    "\n",
    "buyhold.add_metric(portfolio_sharpe_ratio, \"sharpe\", **env_kwargs)"
   ]
  },
  {
   "cell_type": "code",
   "execution_count": 53,
   "metadata": {},
   "outputs": [
    {
     "data": {
      "text/plain": [
       "{'varience': 0.00036842913759998504, 'sharpe': 103.02625380634015}"
      ]
     },
     "execution_count": 53,
     "metadata": {},
     "output_type": "execute_result"
    }
   ],
   "source": [
    "buyhold.metric"
   ]
  }
 ],
 "metadata": {
  "kernelspec": {
   "display_name": "rl_tutorial",
   "language": "python",
   "name": "python3"
  },
  "language_info": {
   "codemirror_mode": {
    "name": "ipython",
    "version": 3
   },
   "file_extension": ".py",
   "mimetype": "text/x-python",
   "name": "python",
   "nbconvert_exporter": "python",
   "pygments_lexer": "ipython3",
   "version": "3.10.9"
  },
  "orig_nbformat": 4,
  "vscode": {
   "interpreter": {
    "hash": "6dd4a4f51c407dddfa0e8ea001a33fc5348a46f8c87dd7c6e01c498ffa111976"
   }
  }
 },
 "nbformat": 4,
 "nbformat_minor": 2
}
